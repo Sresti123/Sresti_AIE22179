{
 "cells": [
  {
   "cell_type": "code",
   "execution_count": 2,
   "metadata": {},
   "outputs": [
    {
     "name": "stdout",
     "output_type": "stream",
     "text": [
      "Pair of 2 numbers with sum 10 1\n",
      "7 and 3\n",
      "Pair of 2 numbers with sum 10 2\n",
      "4 and 6\n",
      "number of matched elements is: 2\n"
     ]
    }
   ],
   "source": [
    "def sum_pairs_with_10(numbers):\n",
    "    count = 0\n",
    "\n",
    "    for i in range(len(numbers)):\n",
    "        for j in range(i + 1, len(numbers)):\n",
    "            if numbers[i] + numbers[j] == 10: #It will caluclate whether sum is 10 or not\n",
    "                count =count+1\n",
    "                print(\"Pair of 2 numbers with sum 10\", count)\n",
    "                print(numbers[i], \"and\", numbers[j])\n",
    "    print(\"number of matched elements is:\", count)\n",
    "\n",
    "\n",
    "numbers = [2, 7, 4, 1, 3, 6]\n",
    "sum_pairs_with_10 (numbers)\n"
   ]
  },
  {
   "cell_type": "code",
   "execution_count": 3,
   "metadata": {},
   "outputs": [
    {
     "name": "stdout",
     "output_type": "stream",
     "text": [
      "Range can be found.\n",
      "Minimum is 0\n",
      "Maximum is 8\n",
      "Range is 8\n"
     ]
    }
   ],
   "source": [
    "def min_max(input_list):            #It is used to initialize minimum and maximum values with list as variable input_list.\n",
    "    minimum_value = input_list[0]\n",
    "    maximum_value = input_list[0]\n",
    "\n",
    "    for i in range(1, len(input_list)): \n",
    "        if input_list[i] < minimum_value: #It checks the given list is less than minimum_value then it initializes to minimum_value\n",
    "            minimum_value = input_list[i]\n",
    "        if input_list[i] > maximum_value:\n",
    "            maximum_value = input_list[i]  ##It checks the given list is greater than maximum_value then it initializes to maximum_value\n",
    "\n",
    "    return minimum_value, maximum_value\n",
    "\n",
    "def calculate_range(minimum_value, maximum_value):\n",
    "    return maximum_value - minimum_value # calculate_range is method to get the difference between minimum_value and maximum_value\n",
    "\n",
    "def determine_range(input_list):\n",
    "    if len(input_list) < 3:\n",
    "        print(\"Range determination not possible.\")\n",
    "        return None\n",
    "    else:\n",
    "        print(\"Range can be found.\")\n",
    "        minimum_value, maximum_value = min_max(input_list)\n",
    "        range_value = calculate_range(minimum_value, maximum_value)\n",
    "\n",
    "        print(\"Minimum is\", minimum_value)\n",
    "        print(\"Maximum is\", maximum_value)\n",
    "        print(\"Range is\", range_value)\n",
    "        return range_value\n",
    "\n",
    "my_list = [5, 3,8,1,0,4]\n",
    "result = determine_range(my_list)\n"
   ]
  },
  {
   "cell_type": "code",
   "execution_count": 4,
   "metadata": {},
   "outputs": [
    {
     "name": "stdout",
     "output_type": "stream",
     "text": [
      "[[7560.0, 9288.0, 11016.0], [17118.0, 21033.0, 24948.0], [26676.0, 32778.0, 38880.0]]\n"
     ]
    }
   ],
   "source": [
    "import numpy as np\n",
    "def power_finding(A, powervalue):\n",
    "    order = len(A) #It givves the length of matrix with variable order.\n",
    "    \n",
    "    identity_matrix = np.eye(order) # using numpy and eye()to create Identity matrix\n",
    "    for _ in range(powervalue):\n",
    "        identity_matrix = matrix_multiplication(identity_matrix, A)\n",
    "        \n",
    "    return identity_matrix\n",
    "\n",
    "def matrix_multiplication(A, B):\n",
    "    row_A, column_A = len(A), len(A[0]) #row_A returns the length of A and len(A[0]) returns the number of columns in the first row of matrix A.\n",
    "    row_B, column_B = len(B), len(B[0]) #row_B returns the length of B and len(B[0]) returns the number of columns in the first row of matrix B.\n",
    "\n",
    "    if column_A != row_B:\n",
    "        print(\"Cannot multiply two matrices.\")\n",
    "\n",
    "\n",
    "    result = [[sum(A[i][k] * B[k][j] for k in range(column_A)) for j in range(column_B)] for i in range(row_A)] #here we will do matrix multiplication by using methods sum() to sum the values after mutliplying.\n",
    "\n",
    "    return result\n",
    "\n",
    "A = [[1, 2, 3], [4, 5, 6], [7, 8, 9]]\n",
    "m = 4\n",
    "\n",
    "answer = power_finding(A, m)\n",
    "print(answer)\n"
   ]
  },
  {
   "cell_type": "code",
   "execution_count": 5,
   "metadata": {},
   "outputs": [
    {
     "name": "stdout",
     "output_type": "stream",
     "text": [
      "The highest frequently occurring alphabet is 'a' with a count of: 3\n"
     ]
    }
   ],
   "source": [
    "def high_occurrence(string_input):  #we will give string as input and alpabet_frequency is the variable of dictionary.\n",
    "    alphabet_frequency = {}\n",
    "\n",
    "    for character in string_input:\n",
    "        # If the character is an alphabet, update its frequency in the dictionary\n",
    "        if character.isalpha(): #isalpha() is method to check whether the string is full of alphabets \n",
    "            alphabet_frequency[character] = alphabet_frequency.get(character, 0) + 1\n",
    "\n",
    "    # Finding the character with the maximum frequency\n",
    "    maximum_char = max(alphabet_frequency, key=alphabet_frequency.get) #It checks the maximum count of letters with the max() as method and arguments as alphabet_frequency abd dictionary key is obtained by get method. \n",
    "    maximum_occurrence = alphabet_frequency[maximum_char]\n",
    "\n",
    "    print(f\"The highest frequently occurring alphabet is '{maximum_char}' with a count of: {maximum_occurrence}\")\n",
    "\n",
    "# Input value and calling the function passing input\n",
    "given_string = \"Subrahmanya Sresti\"\n",
    "high_occurrence(given_string)\n"
   ]
  }
 ],
 "metadata": {
  "kernelspec": {
   "display_name": "base",
   "language": "python",
   "name": "python3"
  },
  "language_info": {
   "codemirror_mode": {
    "name": "ipython",
    "version": 3
   },
   "file_extension": ".py",
   "mimetype": "text/x-python",
   "name": "python",
   "nbconvert_exporter": "python",
   "pygments_lexer": "ipython3",
   "version": "3.11.5"
  }
 },
 "nbformat": 4,
 "nbformat_minor": 2
}
